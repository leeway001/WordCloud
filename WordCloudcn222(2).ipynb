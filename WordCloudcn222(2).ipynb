{
 "cells": [
  {
   "cell_type": "code",
   "execution_count": 1,
   "metadata": {},
   "outputs": [],
   "source": [
    "#coding:utf-8\n",
    "import matplotlib.pyplot as plt\n",
    "from wordcloud import WordCloud,ImageColorGenerator,STOPWORDS\n",
    "import jieba\n",
    "import numpy as np\n",
    "from PIL import Image"
   ]
  },
  {
   "cell_type": "code",
   "execution_count": 2,
   "metadata": {},
   "outputs": [],
   "source": [
    "#读入背景图片\n",
    "abel_mask = np.array(Image.open(\"masked_002.png\"))\n",
    "#读取要生成词云的文件\n",
    "text_from_file_with_apath = open('yes-minister-cn.txt').read()"
   ]
  },
  {
   "cell_type": "code",
   "execution_count": 3,
   "metadata": {},
   "outputs": [
    {
     "name": "stderr",
     "output_type": "stream",
     "text": [
      "Building prefix dict from the default dictionary ...\n",
      "Loading model from cache /tmp/jieba.cache\n",
      "Loading model cost 0.573 seconds.\n",
      "Prefix dict has been built succesfully.\n"
     ]
    }
   ],
   "source": [
    "#通过jieba分词进行分词并通过空格分隔\n",
    "wordlist_after_jieba = jieba.cut(text_from_file_with_apath, cut_all = True)\n",
    "wl_space_split = \" \".join(wordlist_after_jieba)\n",
    "#my_wordcloud = WordCloud().generate(wl_space_split) 默认构造函数\n",
    "my_wordcloud = WordCloud(\n",
    "            background_color= 'white',    # 设置背景颜色\n",
    "            mask = abel_mask,        # 设置背景图片\n",
    "            max_words = 20,            # 设置最大现实的字数\n",
    "            stopwords = STOPWORDS,        # 设置停用词\n",
    "            font_path = 'simsun.ttf',# 设置字体格式，如不设置显示不了中文\n",
    "            max_font_size = 200,            # 设置字体最大值\n",
    "            width = 1000,\n",
    "            height = 860,\n",
    "            random_state = 42,            # 设置有多少种随机生成状态，即有多少种配色方案\n",
    "                scale = 15,\n",
    "                ).generate(wl_space_split)"
   ]
  },
  {
   "cell_type": "code",
   "execution_count": 4,
   "metadata": {},
   "outputs": [
    {
     "data": {
      "image/png": "[encoded data removed]",
      "text/plain": [
       "<Figure size 432x288 with 1 Axes>"
      ]
     },
     "metadata": {},
     "output_type": "display_data"
    }
   ],
   "source": [
    "# 根据图片生成词云颜色\n",
    "image_colors = ImageColorGenerator(abel_mask)\n",
    "#my_wordcloud.recolor(color_func=image_colors)\n",
    "# 以下代码显示图片\n",
    "plt.imshow(my_wordcloud)\n",
    "plt.axis(\"off\")\n",
    "plt.show()"
   ]
  },
  {
   "cell_type": "code",
   "execution_count": null,
   "metadata": {},
   "outputs": [],
   "source": []
  },
  {
   "cell_type": "code",
   "execution_count": null,
   "metadata": {},
   "outputs": [],
   "source": []
  },
  {
   "cell_type": "code",
   "execution_count": null,
   "metadata": {},
   "outputs": [],
   "source": []
  }
 ],
 "metadata": {
  "kernelspec": {
   "display_name": "Python 2",
   "language": "python",
   "name": "python2"
  },
  "language_info": {
   "codemirror_mode": {
    "name": "ipython",
    "version": 2
   },
   "file_extension": ".py",
   "mimetype": "text/x-python",
   "name": "python",
   "nbconvert_exporter": "python",
   "pygments_lexer": "ipython2",
   "version": "2.7.15"
  }
 },
 "nbformat": 4,
 "nbformat_minor": 2
}
